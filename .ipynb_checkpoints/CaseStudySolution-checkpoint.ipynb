{
 "cells": [
  {
   "cell_type": "code",
   "execution_count": 117,
   "metadata": {},
   "outputs": [],
   "source": [
    "#import Libraries"
   ]
  },
  {
   "cell_type": "code",
   "execution_count": 118,
   "metadata": {},
   "outputs": [],
   "source": [
    "import pandas as pd\n",
    "import numpy as np\n",
    "from matplotlib import pyplot as plt\n",
    "import seaborn as sns\n",
    "from sklearn.linear_model import LogisticRegression\n",
    "from sklearn.model_selection import train_test_split\n",
    "from sklearn.preprocessing import Normalizer\n",
    "from sklearn.neighbors import KNeighborsClassifier\n",
    "from sklearn.metrics import confusion_matrix, accuracy_score, precision_score, recall_score, f1_score, classification_report\n",
    "from sklearn.decomposition import PCA\n",
    "from statsmodels.stats.outliers_influence import variance_inflation_factor    "
   ]
  },
  {
   "cell_type": "code",
   "execution_count": 119,
   "metadata": {},
   "outputs": [],
   "source": [
    "# Read original patient dataset"
   ]
  },
  {
   "cell_type": "code",
   "execution_count": 120,
   "metadata": {},
   "outputs": [],
   "source": [
    "originalDataSet = pd.read_csv('Problem2_Data.csv')"
   ]
  },
  {
   "cell_type": "code",
   "execution_count": 121,
   "metadata": {},
   "outputs": [],
   "source": [
    "#see Data definition"
   ]
  },
  {
   "cell_type": "code",
   "execution_count": 122,
   "metadata": {},
   "outputs": [
    {
     "name": "stdout",
     "output_type": "stream",
     "text": [
      "<class 'pandas.core.frame.DataFrame'>\n",
      "RangeIndex: 34281 entries, 0 to 34280\n",
      "Data columns (total 25 columns):\n",
      "ID        34281 non-null int64\n",
      "IV        34281 non-null int64\n",
      "A1        34281 non-null int64\n",
      "A2        32538 non-null float64\n",
      "A3        34281 non-null int64\n",
      "A4        34281 non-null int64\n",
      "A5        34281 non-null int64\n",
      "A6        34281 non-null int64\n",
      "A7        34281 non-null int64\n",
      "A8        34281 non-null int64\n",
      "A9        34281 non-null int64\n",
      "A10       34281 non-null int64\n",
      "A11       34281 non-null int64\n",
      "A12       34281 non-null int64\n",
      "A13       34281 non-null int64\n",
      "A14       34281 non-null int64\n",
      "A15       34281 non-null float64\n",
      "A16       34281 non-null float64\n",
      "A17       34281 non-null int64\n",
      "A18       34281 non-null int64\n",
      "A19       34281 non-null int64\n",
      "A20       34281 non-null int64\n",
      "A21       34281 non-null float64\n",
      "A22       34281 non-null int64\n",
      "Target    34281 non-null int64\n",
      "dtypes: float64(4), int64(21)\n",
      "memory usage: 6.5 MB\n"
     ]
    },
    {
     "data": {
      "text/html": [
       "<div>\n",
       "<style scoped>\n",
       "    .dataframe tbody tr th:only-of-type {\n",
       "        vertical-align: middle;\n",
       "    }\n",
       "\n",
       "    .dataframe tbody tr th {\n",
       "        vertical-align: top;\n",
       "    }\n",
       "\n",
       "    .dataframe thead th {\n",
       "        text-align: right;\n",
       "    }\n",
       "</style>\n",
       "<table border=\"1\" class=\"dataframe\">\n",
       "  <thead>\n",
       "    <tr style=\"text-align: right;\">\n",
       "      <th></th>\n",
       "      <th>ID</th>\n",
       "      <th>IV</th>\n",
       "      <th>A1</th>\n",
       "      <th>A2</th>\n",
       "      <th>A3</th>\n",
       "      <th>A4</th>\n",
       "      <th>A5</th>\n",
       "      <th>A6</th>\n",
       "      <th>A7</th>\n",
       "      <th>A8</th>\n",
       "      <th>...</th>\n",
       "      <th>A14</th>\n",
       "      <th>A15</th>\n",
       "      <th>A16</th>\n",
       "      <th>A17</th>\n",
       "      <th>A18</th>\n",
       "      <th>A19</th>\n",
       "      <th>A20</th>\n",
       "      <th>A21</th>\n",
       "      <th>A22</th>\n",
       "      <th>Target</th>\n",
       "    </tr>\n",
       "  </thead>\n",
       "  <tbody>\n",
       "    <tr>\n",
       "      <td>0</td>\n",
       "      <td>1443894</td>\n",
       "      <td>2049</td>\n",
       "      <td>44</td>\n",
       "      <td>8.0</td>\n",
       "      <td>11</td>\n",
       "      <td>0</td>\n",
       "      <td>0</td>\n",
       "      <td>0</td>\n",
       "      <td>0</td>\n",
       "      <td>38</td>\n",
       "      <td>...</td>\n",
       "      <td>0</td>\n",
       "      <td>0.52</td>\n",
       "      <td>0.69</td>\n",
       "      <td>0</td>\n",
       "      <td>0</td>\n",
       "      <td>0</td>\n",
       "      <td>1</td>\n",
       "      <td>17.078971</td>\n",
       "      <td>0</td>\n",
       "      <td>0</td>\n",
       "    </tr>\n",
       "  </tbody>\n",
       "</table>\n",
       "<p>1 rows × 25 columns</p>\n",
       "</div>"
      ],
      "text/plain": [
       "        ID    IV  A1   A2  A3  A4  A5  A6  A7  A8  ...  A14   A15   A16  A17  \\\n",
       "0  1443894  2049  44  8.0  11   0   0   0   0  38  ...    0  0.52  0.69    0   \n",
       "\n",
       "   A18  A19  A20        A21  A22  Target  \n",
       "0    0    0    1  17.078971    0       0  \n",
       "\n",
       "[1 rows x 25 columns]"
      ]
     },
     "execution_count": 122,
     "metadata": {},
     "output_type": "execute_result"
    }
   ],
   "source": [
    "originalDataSet.info()\n",
    "originalDataSet.head(1)"
   ]
  },
  {
   "cell_type": "code",
   "execution_count": 123,
   "metadata": {},
   "outputs": [],
   "source": [
    "# see data heat map "
   ]
  },
  {
   "cell_type": "code",
   "execution_count": 126,
   "metadata": {},
   "outputs": [
    {
     "name": "stdout",
     "output_type": "stream",
     "text": [
      "Heat map of patient original data\n"
     ]
    },
    {
     "data": {
      "image/png": "[encoded data removed]",
      "text/plain": [
       "<Figure size 864x648 with 2 Axes>"
      ]
     },
     "metadata": {
      "needs_background": "light"
     },
     "output_type": "display_data"
    }
   ],
   "source": [
    "print(\"Heat map of patient original data\")\n",
    "correlation_matrix = originalDataSet.corr()\n",
    "fig = plt.figure(figsize=(12, 9))\n",
    "sns.heatmap(correlation_matrix, vmax=0.8, square=True)\n",
    "plt.show()"
   ]
  },
  {
   "cell_type": "code",
   "execution_count": 127,
   "metadata": {},
   "outputs": [],
   "source": [
    "#Perform Data Cleaning "
   ]
  },
  {
   "cell_type": "code",
   "execution_count": 128,
   "metadata": {},
   "outputs": [],
   "source": [
    "# find column which hold any null value and replace them with mean of the column\n",
    "nullcolumnsList = originalDataSet.columns[originalDataSet.isnull().any()]\n",
    "nullrowsbasedonthecolumnName = originalDataSet[nullcolumnsList].isnull().sum()\n",
    "\n",
    "# fill null rows with mean of the respective column\n",
    "nba = originalDataSet.fillna(originalDataSet.mean())\n",
    "\n",
    "# replace NA with mean of the respective column\n",
    "nba.replace('NA', originalDataSet.mean())\n",
    "# make a copy of dataframe and replace -99 with 0 and calculate mean so this mean will use to\n",
    "#replace with -99 in original dataframe\n",
    "wba  = nba.copy()\n",
    "wba[wba == -99] = 0\n",
    "# Now rpalce dataframe with mean of the respective column from dataset which has zero in palce of -99\n",
    "nba.replace(-99, wba.mean(),inplace=True)\n",
    "# delete id column as this was index column of the dataset\n",
    "nba.drop(['ID'], axis=1, inplace=True)\n",
    "corr_values_cols = nba.corr(method='pearson').abs()\n",
    "#general guide for interpreting strength of r (absolute value)\n",
    "#0 - .2 =  weak, slight\n",
    "#.2 - .4 = mild/modest\n",
    "#.4 - .6 = moderate\n",
    "#.6 - .8 = moderately strong\n",
    "#.8 - 1.0 = strong\n",
    "\n",
    "high_corr_var_cols = np.where(corr_values_cols > 0.80)\n",
    "high_corr_var_cols = [[corr_values_cols.index[x], corr_values_cols.columns[y]] for x, y in zip(*high_corr_var_cols) if\n",
    "                      x != y and x < y]\n",
    "uniquecolumn_name_to_be_removed = set()\n",
    "for i in high_corr_var_cols:\n",
    "    for j in i:\n",
    "        uniquecolumn_name_to_be_removed.add(j)\n",
    "\n",
    "# drop highly corelated columns found in variable uniquecolumn_name_to_be_removed\n",
    "for x in uniquecolumn_name_to_be_removed:\n",
    "    nba.drop([x], axis=1, inplace=True)"
   ]
  },
  {
   "cell_type": "code",
   "execution_count": 129,
   "metadata": {},
   "outputs": [],
   "source": [
    "#Perform Data Normalization"
   ]
  },
  {
   "cell_type": "code",
   "execution_count": 130,
   "metadata": {},
   "outputs": [],
   "source": [
    "scaler = Normalizer()\n",
    "nba.loc[:, nba.columns != 'Target'] = scaler.fit_transform(nba.loc[:, nba.columns != 'Target'])"
   ]
  },
  {
   "cell_type": "code",
   "execution_count": 131,
   "metadata": {},
   "outputs": [],
   "source": [
    "# Remove Data outliers "
   ]
  },
  {
   "cell_type": "code",
   "execution_count": 132,
   "metadata": {},
   "outputs": [
    {
     "name": "stdout",
     "output_type": "stream",
     "text": [
      "dropping 'A11' at index: 6\n",
      "dropping 'A21' at index: 12\n",
      "Remaining variables:\n",
      "Index(['IV', 'A1', 'A2', 'A3', 'A4', 'A8', 'A13', 'A14', 'A17', 'A18', 'A19',\n",
      "       'A20', 'A22', 'Target'],\n",
      "      dtype='object')\n"
     ]
    }
   ],
   "source": [
    "def calculate_vif_(X, thresh=5.0):\n",
    "    variables = list(range(X.shape[1]))\n",
    "    dropped = True\n",
    "    while dropped:\n",
    "        dropped = False\n",
    "        vif = [variance_inflation_factor(X.iloc[:, variables].values, ix)\n",
    "               for ix in range(X.iloc[:, variables].shape[1])]\n",
    "\n",
    "        maxloc = vif.index(max(vif))\n",
    "        if max(vif) > thresh:\n",
    "            print('dropping \\'' + X.iloc[:, variables].columns[maxloc] +\n",
    "                  '\\' at index: ' + str(maxloc))\n",
    "            del variables[maxloc]\n",
    "            dropped = True\n",
    "\n",
    "    print('Remaining variables:')\n",
    "    print(X.columns[variables])\n",
    "    return X.iloc[:, variables]\n",
    "\n",
    "FinalDataFrame = calculate_vif_(nba)"
   ]
  },
  {
   "cell_type": "code",
   "execution_count": 133,
   "metadata": {},
   "outputs": [
    {
     "name": "stdout",
     "output_type": "stream",
     "text": [
      "Heat map of patient data after Data normalization\n"
     ]
    },
    {
     "data": {
      "image/png": "[encoded data removed]",
      "text/plain": [
       "<Figure size 864x648 with 2 Axes>"
      ]
     },
     "metadata": {
      "needs_background": "light"
     },
     "output_type": "display_data"
    }
   ],
   "source": [
    "print(\"Heat map of patient data after Data normalization\")\n",
    "correlation_matrix = FinalDataFrame.corr()\n",
    "fig = plt.figure(figsize=(12, 9))\n",
    "sns.heatmap(correlation_matrix, vmax=0.8, square=True)\n",
    "plt.show()"
   ]
  },
  {
   "cell_type": "code",
   "execution_count": 134,
   "metadata": {},
   "outputs": [],
   "source": [
    "#Perform PCA analysis and reduce the components "
   ]
  },
  {
   "cell_type": "code",
   "execution_count": 135,
   "metadata": {},
   "outputs": [
    {
     "data": {
      "image/png": "[encoded data removed]",
      "text/plain": [
       "<Figure size 432x288 with 1 Axes>"
      ]
     },
     "metadata": {
      "needs_background": "light"
     },
     "output_type": "display_data"
    }
   ],
   "source": [
    "\n",
    "X = FinalDataFrame.drop(['Target'], axis=1)\n",
    "y = FinalDataFrame['Target']\n",
    "pca = PCA(n_components=2)\n",
    "principalComponents = pca.fit_transform(X.values)\n",
    "principalDf = pd.DataFrame(data=principalComponents\n",
    "                           , columns=['principal component 1', 'principal component 2'])\n",
    "finalDf = pd.concat([principalDf, y], axis=1)\n",
    "finalDf.head()\n",
    "fig, ax = plt.subplots()\n",
    "ax.set_xlabel('Principal Component 1', fontsize=15)\n",
    "ax.set_ylabel('Principal Component 2', fontsize=15)\n",
    "ax.set_title('PCA', fontsize=20)\n",
    "targets = [0, 1]\n",
    "colors = ['r', 'b']\n",
    "for target, color in zip(targets, colors):\n",
    "    indicesToKeep = finalDf['Target'] == target\n",
    "    ax.scatter(finalDf.loc[indicesToKeep, 'principal component 1']\n",
    "               , finalDf.loc[indicesToKeep, 'principal component 2']\n",
    "               , c=color\n",
    "               , s=50)\n",
    "ax.legend(targets)\n",
    "ax.grid()"
   ]
  },
  {
   "cell_type": "code",
   "execution_count": 136,
   "metadata": {},
   "outputs": [],
   "source": [
    "#Data splitting"
   ]
  },
  {
   "cell_type": "code",
   "execution_count": 137,
   "metadata": {},
   "outputs": [],
   "source": [
    "X = finalDf.drop(['Target'], axis=1)\n",
    "Y = finalDf['Target']\n",
    "\n",
    "X_train, X_test, y_train, y_test = train_test_split(X, Y, test_size=0.3 )"
   ]
  },
  {
   "cell_type": "code",
   "execution_count": 138,
   "metadata": {},
   "outputs": [],
   "source": [
    "#Create Logistics Model , train it and test the model "
   ]
  },
  {
   "cell_type": "code",
   "execution_count": 139,
   "metadata": {},
   "outputs": [
    {
     "name": "stderr",
     "output_type": "stream",
     "text": [
      "/opt/anaconda3/lib/python3.7/site-packages/sklearn/linear_model/logistic.py:432: FutureWarning: Default solver will be changed to 'lbfgs' in 0.22. Specify a solver to silence this warning.\n",
      "  FutureWarning)\n"
     ]
    }
   ],
   "source": [
    "# Create Model \n",
    "\n",
    "logModel = LogisticRegression()\n",
    "\n",
    "# Tarin Model \n",
    "\n",
    "logModel.fit(X_train,y_train)\n",
    "\n",
    "#Test Model  \n",
    "\n",
    "predictions = logModel.predict(X_test)\n"
   ]
  },
  {
   "cell_type": "code",
   "execution_count": 140,
   "metadata": {},
   "outputs": [
    {
     "name": "stdout",
     "output_type": "stream",
     "text": [
      "Classification report LogisticRegression:\n",
      "              precision    recall  f1-score   support\n",
      "\n",
      "           0       0.86      0.89      0.88      6902\n",
      "           1       0.76      0.72      0.74      3383\n",
      "\n",
      "    accuracy                           0.83     10285\n",
      "   macro avg       0.81      0.80      0.81     10285\n",
      "weighted avg       0.83      0.83      0.83     10285\n",
      "\n",
      "Confusion Matrix LogisticRegression:\n",
      "[[6124  778]\n",
      " [ 962 2421]]\n"
     ]
    }
   ],
   "source": [
    "\n",
    "#  Evaluate LogisticRegression Model \n",
    "print(\"Classification report LogisticRegression:\")\n",
    "print(classification_report(y_test,predictions))\n",
    "print(\"Confusion Matrix LogisticRegression:\")\n",
    "print(confusion_matrix(y_test,predictions))"
   ]
  },
  {
   "cell_type": "code",
   "execution_count": 141,
   "metadata": {},
   "outputs": [],
   "source": [
    "#Create KNN (KNeighborsClassifier) Model , train it and test the model "
   ]
  },
  {
   "cell_type": "code",
   "execution_count": 142,
   "metadata": {},
   "outputs": [
    {
     "data": {
      "image/png": "[encoded data removed]",
      "text/plain": [
       "<Figure size 720x432 with 1 Axes>"
      ]
     },
     "metadata": {
      "needs_background": "light"
     },
     "output_type": "display_data"
    }
   ],
   "source": [
    "# Create Model \n",
    "\n",
    "error_rate = []\n",
    "for i in range(1,10):\n",
    "    knn = KNeighborsClassifier(n_neighbors=1)\n",
    "    knn.fit(X_train,y_train)\n",
    "    pred_i = knn.predict(X_test)\n",
    "    error_rate.append(np.mean(pred_i != y_test))\n",
    "plt.figure(figsize=(10,6))\n",
    "plt.plot(range(1,10),error_rate,color='blue', linestyle='dashed', marker='o',markerfacecolor='red', markersize=10)\n",
    "plt.title('Error Rate vs. K Value')\n",
    "plt.xlabel('K')\n",
    "plt.ylabel('Error Rate')\n",
    "\n",
    "knn = KNeighborsClassifier(n_neighbors=1)\n",
    "\n",
    "# Tarin Model \n",
    "\n",
    "knn.fit(X_train,y_train)\n",
    "\n",
    "# Test Model \n",
    "\n",
    "predictions = knn.predict(X_test)\n"
   ]
  },
  {
   "cell_type": "code",
   "execution_count": 143,
   "metadata": {},
   "outputs": [
    {
     "name": "stdout",
     "output_type": "stream",
     "text": [
      "\n",
      "Note: From above image:'Error Rate vs. K Value' The Error rate is same accross all k value so we will pick k = 0 as final value\n",
      "              precision    recall  f1-score   support\n",
      "\n",
      "           0       0.86      0.85      0.86      6902\n",
      "           1       0.70      0.73      0.72      3383\n",
      "\n",
      "    accuracy                           0.81     10285\n",
      "   macro avg       0.78      0.79      0.79     10285\n",
      "weighted avg       0.81      0.81      0.81     10285\n",
      "\n",
      "Confusion Matrix KNN Model:\n",
      "[[5874 1028]\n",
      " [ 927 2456]]\n"
     ]
    }
   ],
   "source": [
    "\n",
    "# Evaluate KNN Model \n",
    "print(\"\\nNote: From above image:'Error Rate vs. K Value' The Error rate is same accross all k value so we will pick k = 0 as final value\")\n",
    "print(classification_report(y_test,predictions))\n",
    "print(\"Confusion Matrix KNN Model:\")\n",
    "print(confusion_matrix(y_test,predictions))"
   ]
  },
  {
   "cell_type": "code",
   "execution_count": 66,
   "metadata": {},
   "outputs": [],
   "source": [
    "# Conclusion : LogisticRegression and KNN both model are predicting wheather patient has coronary heart disease or \n",
    "# not with 81% to 85% of accuracy"
   ]
  },
  {
   "cell_type": "code",
   "execution_count": 144,
   "metadata": {},
   "outputs": [],
   "source": [
    "# Areas of Improvement\n",
    "\n",
    "# 1. we can increase the accuracy up to 90 % by normaliing the data much more if we get the labels of the\n",
    "# columns as they play a vital role while understanding the data\n",
    "# as of now we have normalized the data in a standard way "
   ]
  },
  {
   "cell_type": "code",
   "execution_count": null,
   "metadata": {},
   "outputs": [],
   "source": []
  }
 ],
 "metadata": {
  "kernelspec": {
   "display_name": "Python 3",
   "language": "python",
   "name": "python3"
  },
  "language_info": {
   "codemirror_mode": {
    "name": "ipython",
    "version": 3
   },
   "file_extension": ".py",
   "mimetype": "text/x-python",
   "name": "python",
   "nbconvert_exporter": "python",
   "pygments_lexer": "ipython3",
   "version": "3.7.4"
  }
 },
 "nbformat": 4,
 "nbformat_minor": 2
}
